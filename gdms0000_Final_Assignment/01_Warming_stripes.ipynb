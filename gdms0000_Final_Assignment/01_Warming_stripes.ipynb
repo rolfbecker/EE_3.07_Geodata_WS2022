{
 "cells": [
  {
   "cell_type": "code",
   "execution_count": 1,
   "id": "7d43879c-758e-4b37-b93b-392750c4d201",
   "metadata": {},
   "outputs": [],
   "source": [
    "import geopandas\n",
    "import pandas as pd\n",
    "import os"
   ]
  },
  {
   "cell_type": "code",
   "execution_count": 2,
   "id": "595c1b43-3a80-42c4-ab02-8bc823e8899d",
   "metadata": {},
   "outputs": [],
   "source": [
    "# import geopandas got an error, and resolved using opening the jupyter notebook with anaconda navigator instead\n",
    "# of powershell prompt"
   ]
  },
  {
   "cell_type": "code",
   "execution_count": 3,
   "id": "aa494e32",
   "metadata": {},
   "outputs": [
    {
     "name": "stdout",
     "output_type": "stream",
     "text": [
      "Subdirectory on FTP Server: /annual/kl/historical/\n"
     ]
    }
   ],
   "source": [
    "# The topic of interest\n",
    "topic_dir = \"/annual/kl/historical/\"\n",
    "print(\"Subdirectory on FTP Server:\", topic_dir)"
   ]
  },
  {
   "cell_type": "code",
   "execution_count": 4,
   "id": "06a6c2ec",
   "metadata": {},
   "outputs": [],
   "source": [
    "#local_ftp_dir         = \"../data/original/DWD/\"      # Local directory to store local ftp data copies, the local data source or input data. \n",
    "local_ftp_dir         = \"data/original/DWD/\"      # Local directory to store local ftp data copies, the local data source or input data. \n",
    "local_ftp_station_dir = local_ftp_dir + topic_dir # Local directory where local station info is located\n",
    "local_ftp_ts_dir      = local_ftp_dir + topic_dir # Local directory where time series downloaded from ftp are located\n",
    "\n",
    "#local_generated_dir   = \"../data/generated/DWD/\" # The generated of derived data in contrast to local_ftp_dir\n",
    "local_generated_dir   = \"data/generated/DWD/\" # The generated of derived data in contrast to local_ftp_dir\n",
    "local_station_dir     = local_generated_dir + topic_dir # Derived station data, i.e. the CSV file\n",
    "local_ts_merged_dir   = local_generated_dir + topic_dir # Parallel merged time series, wide data frame with one TS per column\n",
    "local_ts_appended_dir = local_generated_dir + topic_dir # Serially appended time series, long data frame for QGIS TimeManager Plugin"
   ]
  },
  {
   "cell_type": "code",
   "execution_count": 5,
   "id": "71003bd3",
   "metadata": {},
   "outputs": [],
   "source": [
    "#import os\n",
    "os.makedirs(local_ftp_dir,exist_ok = True) # it does not complain if the dir already exists.\n",
    "os.makedirs(local_ftp_station_dir,exist_ok = True)\n",
    "os.makedirs(local_ftp_ts_dir,exist_ok = True)\n",
    "\n",
    "os.makedirs(local_generated_dir,exist_ok = True)\n",
    "os.makedirs(local_station_dir,exist_ok = True)\n",
    "os.makedirs(local_ts_merged_dir,exist_ok = True)\n",
    "os.makedirs(local_ts_appended_dir,exist_ok = True)"
   ]
  },
  {
   "cell_type": "code",
   "execution_count": 6,
   "id": "526cedc0",
   "metadata": {},
   "outputs": [
    {
     "name": "stdout",
     "output_type": "stream",
     "text": [
      "data/original/DWD/\n",
      "data/original/DWD//annual/kl/historical/\n",
      "data/original/DWD//annual/kl/historical/\n",
      "\n",
      "data/generated/DWD/\n",
      "data/generated/DWD//annual/kl/historical/\n",
      "data/generated/DWD//annual/kl/historical/\n",
      "data/generated/DWD//annual/kl/historical/\n"
     ]
    }
   ],
   "source": [
    "# check if directories are rightly generated\n",
    "print(local_ftp_dir)\n",
    "print(local_ftp_station_dir)\n",
    "print(local_ftp_ts_dir)\n",
    "print()\n",
    "print(local_generated_dir)\n",
    "print(local_station_dir)\n",
    "print(local_ts_merged_dir)\n",
    "print(local_ts_appended_dir)"
   ]
  },
  {
   "cell_type": "markdown",
   "id": "201d5163",
   "metadata": {},
   "source": [
    "### FTP Connection\n",
    "\n",
    "## Connection parameters"
   ]
  },
  {
   "cell_type": "code",
   "execution_count": 7,
   "id": "dd849c01",
   "metadata": {},
   "outputs": [],
   "source": [
    "server = \"opendata.dwd.de\"\n",
    "user   = \"anonymous\"\n",
    "passwd = \"\""
   ]
  },
  {
   "cell_type": "code",
   "execution_count": 8,
   "id": "5c4bedb0",
   "metadata": {},
   "outputs": [
    {
     "name": "stdout",
     "output_type": "stream",
     "text": [
      "Absolute FTP directory path with data of concern: /climate_environment/CDC/observations_germany/climate//annual/kl/historical/\n"
     ]
    }
   ],
   "source": [
    "# This is the search pattern common to ALL station description file names \n",
    "station_desc_pattern = \"_Beschreibung_Stationen.txt\"\n",
    "\n",
    "# Below this directory tree node all climate data are stored.\n",
    "ftp_climate_data_dir = \"/climate_environment/CDC/observations_germany/climate/\"\n",
    "\n",
    "# The absolute ftp directory with the data (topic) of concern\n",
    "ftp_dir =  ftp_climate_data_dir + topic_dir\n",
    "print(\"Absolute FTP directory path with data of concern:\", ftp_dir)"
   ]
  },
  {
   "cell_type": "markdown",
   "id": "e5eb6d45",
   "metadata": {},
   "source": [
    "### FTP Connect"
   ]
  },
  {
   "cell_type": "code",
   "execution_count": 9,
   "id": "02efb396",
   "metadata": {},
   "outputs": [
    {
     "name": "stdout",
     "output_type": "stream",
     "text": [
      "230 Login successful.\n"
     ]
    }
   ],
   "source": [
    "import ftplib\n",
    "ftp = ftplib.FTP(server)\n",
    "res = ftp.login(user=user, passwd = passwd)\n",
    "print(res)"
   ]
  },
  {
   "cell_type": "code",
   "execution_count": 10,
   "id": "8baf9923",
   "metadata": {},
   "outputs": [],
   "source": [
    "ret = ftp.cwd(\".\")"
   ]
  },
  {
   "cell_type": "code",
   "execution_count": 11,
   "id": "a33fb9fb",
   "metadata": {},
   "outputs": [],
   "source": [
    "#ftp.quit()"
   ]
  },
  {
   "cell_type": "markdown",
   "id": "8b3d5198",
   "metadata": {},
   "source": [
    "### FTP Grab File Function"
   ]
  },
  {
   "cell_type": "code",
   "execution_count": 12,
   "id": "f83b6958",
   "metadata": {},
   "outputs": [],
   "source": [
    "def grabFile(ftpfullname,localfullname):\n",
    "    try:\n",
    "        ret = ftp.cwd(\".\") # A dummy action to check the connection and to provoke an exception if necessary.\n",
    "        localfile = open(localfullname, 'wb')\n",
    "        ftp.retrbinary('RETR ' + ftpfullname, localfile.write, 1024)\n",
    "        localfile.close()\n",
    "    \n",
    "    except ftplib.error_perm:\n",
    "        print(\"FTP ERROR. Operation not permitted. File not found?\")\n",
    "\n",
    "    except ftplib.error_temp:\n",
    "        print(\"FTP ERROR. Timeout.\")\n",
    "\n",
    "    except ConnectionAbortedError:\n",
    "        print(\"FTP ERROR. Connection aborted.\")"
   ]
  },
  {
   "cell_type": "markdown",
   "id": "02d440c3",
   "metadata": {},
   "source": [
    "## Generate Pandas Dataframe from FTP Directory Listing"
   ]
  },
  {
   "cell_type": "code",
   "execution_count": 13,
   "id": "cb1bfc1b",
   "metadata": {},
   "outputs": [],
   "source": [
    "def gen_df_from_ftp_dir_listing(ftp, ftpdir):\n",
    "    lines = []\n",
    "    flist = []\n",
    "    try:    \n",
    "        res = ftp.retrlines(\"LIST \"+ftpdir, lines.append)\n",
    "    except:\n",
    "        print(\"Error: ftp.retrlines() failed. ftp timeout? Reconnect!\")\n",
    "        return\n",
    "        \n",
    "    if len(lines) == 0:\n",
    "        print(\"Error: ftp dir is empty\")\n",
    "        return\n",
    "    \n",
    "    for line in lines:\n",
    "#        print(line)\n",
    "        [ftype, fsize, fname] = [line[0:1], int(line[31:42]), line[56:]]\n",
    "#        itemlist = [line[0:1], int(line[31:42]), line[56:]]\n",
    "#        flist.append(itemlist)\n",
    "        \n",
    "        fext = os.path.splitext(fname)[-1]\n",
    "        \n",
    "        if fext == \".zip\":\n",
    "            station_id = int(fname.split(\"_\")[2])\n",
    "        else:\n",
    "            station_id = -1 \n",
    "        \n",
    "        flist.append([station_id, fname, fext, fsize, ftype])\n",
    "        \n",
    "        \n",
    "\n",
    "    df_ftpdir = pd.DataFrame(flist,columns=[\"station_id\", \"name\", \"ext\", \"size\", \"type\"])\n",
    "    return(df_ftpdir)"
   ]
  },
  {
   "cell_type": "code",
   "execution_count": 14,
   "id": "bb6ec9d3",
   "metadata": {},
   "outputs": [],
   "source": [
    "df_ftpdir = gen_df_from_ftp_dir_listing(ftp, ftp_dir)"
   ]
  },
  {
   "cell_type": "code",
   "execution_count": 15,
   "id": "60f7f4bb",
   "metadata": {},
   "outputs": [
    {
     "data": {
      "text/html": [
       "<div>\n",
       "<style scoped>\n",
       "    .dataframe tbody tr th:only-of-type {\n",
       "        vertical-align: middle;\n",
       "    }\n",
       "\n",
       "    .dataframe tbody tr th {\n",
       "        vertical-align: top;\n",
       "    }\n",
       "\n",
       "    .dataframe thead th {\n",
       "        text-align: right;\n",
       "    }\n",
       "</style>\n",
       "<table border=\"1\" class=\"dataframe\">\n",
       "  <thead>\n",
       "    <tr style=\"text-align: right;\">\n",
       "      <th></th>\n",
       "      <th>station_id</th>\n",
       "      <th>name</th>\n",
       "      <th>ext</th>\n",
       "      <th>size</th>\n",
       "      <th>type</th>\n",
       "    </tr>\n",
       "  </thead>\n",
       "  <tbody>\n",
       "    <tr>\n",
       "      <th>0</th>\n",
       "      <td>-1</td>\n",
       "      <td>KL_Jahreswerte_Beschreibung_Stationen.txt</td>\n",
       "      <td>.txt</td>\n",
       "      <td>240187</td>\n",
       "      <td>-</td>\n",
       "    </tr>\n",
       "    <tr>\n",
       "      <th>1</th>\n",
       "      <td>1</td>\n",
       "      <td>jahreswerte_KL_00001_19310101_19860630_hist.zip</td>\n",
       "      <td>.zip</td>\n",
       "      <td>12989</td>\n",
       "      <td>-</td>\n",
       "    </tr>\n",
       "    <tr>\n",
       "      <th>2</th>\n",
       "      <td>3</td>\n",
       "      <td>jahreswerte_KL_00003_18510101_20110331_hist.zip</td>\n",
       "      <td>.zip</td>\n",
       "      <td>20125</td>\n",
       "      <td>-</td>\n",
       "    </tr>\n",
       "    <tr>\n",
       "      <th>3</th>\n",
       "      <td>44</td>\n",
       "      <td>jahreswerte_KL_00044_19710301_20211231_hist.zip</td>\n",
       "      <td>.zip</td>\n",
       "      <td>16176</td>\n",
       "      <td>-</td>\n",
       "    </tr>\n",
       "    <tr>\n",
       "      <th>4</th>\n",
       "      <td>52</td>\n",
       "      <td>jahreswerte_KL_00052_19730101_20011231_hist.zip</td>\n",
       "      <td>.zip</td>\n",
       "      <td>13759</td>\n",
       "      <td>-</td>\n",
       "    </tr>\n",
       "    <tr>\n",
       "      <th>5</th>\n",
       "      <td>61</td>\n",
       "      <td>jahreswerte_KL_00061_19750701_19780831_hist.zip</td>\n",
       "      <td>.zip</td>\n",
       "      <td>9130</td>\n",
       "      <td>-</td>\n",
       "    </tr>\n",
       "    <tr>\n",
       "      <th>6</th>\n",
       "      <td>70</td>\n",
       "      <td>jahreswerte_KL_00070_19730601_19860930_hist.zip</td>\n",
       "      <td>.zip</td>\n",
       "      <td>9680</td>\n",
       "      <td>-</td>\n",
       "    </tr>\n",
       "    <tr>\n",
       "      <th>7</th>\n",
       "      <td>71</td>\n",
       "      <td>jahreswerte_KL_00071_19861101_20191231_hist.zip</td>\n",
       "      <td>.zip</td>\n",
       "      <td>14916</td>\n",
       "      <td>-</td>\n",
       "    </tr>\n",
       "    <tr>\n",
       "      <th>8</th>\n",
       "      <td>72</td>\n",
       "      <td>jahreswerte_KL_00072_19781001_19950531_hist.zip</td>\n",
       "      <td>.zip</td>\n",
       "      <td>12892</td>\n",
       "      <td>-</td>\n",
       "    </tr>\n",
       "    <tr>\n",
       "      <th>9</th>\n",
       "      <td>73</td>\n",
       "      <td>jahreswerte_KL_00073_19530101_20211231_hist.zip</td>\n",
       "      <td>.zip</td>\n",
       "      <td>17379</td>\n",
       "      <td>-</td>\n",
       "    </tr>\n",
       "  </tbody>\n",
       "</table>\n",
       "</div>"
      ],
      "text/plain": [
       "   station_id                                             name   ext    size  \\\n",
       "0          -1        KL_Jahreswerte_Beschreibung_Stationen.txt  .txt  240187   \n",
       "1           1  jahreswerte_KL_00001_19310101_19860630_hist.zip  .zip   12989   \n",
       "2           3  jahreswerte_KL_00003_18510101_20110331_hist.zip  .zip   20125   \n",
       "3          44  jahreswerte_KL_00044_19710301_20211231_hist.zip  .zip   16176   \n",
       "4          52  jahreswerte_KL_00052_19730101_20011231_hist.zip  .zip   13759   \n",
       "5          61  jahreswerte_KL_00061_19750701_19780831_hist.zip  .zip    9130   \n",
       "6          70  jahreswerte_KL_00070_19730601_19860930_hist.zip  .zip    9680   \n",
       "7          71  jahreswerte_KL_00071_19861101_20191231_hist.zip  .zip   14916   \n",
       "8          72  jahreswerte_KL_00072_19781001_19950531_hist.zip  .zip   12892   \n",
       "9          73  jahreswerte_KL_00073_19530101_20211231_hist.zip  .zip   17379   \n",
       "\n",
       "  type  \n",
       "0    -  \n",
       "1    -  \n",
       "2    -  \n",
       "3    -  \n",
       "4    -  \n",
       "5    -  \n",
       "6    -  \n",
       "7    -  \n",
       "8    -  \n",
       "9    -  "
      ]
     },
     "execution_count": 15,
     "metadata": {},
     "output_type": "execute_result"
    }
   ],
   "source": [
    "df_ftpdir.head(10)"
   ]
  },
  {
   "cell_type": "markdown",
   "id": "d2658c62",
   "metadata": {},
   "source": [
    "Dataframe with TS Zip Files"
   ]
  },
  {
   "cell_type": "code",
   "execution_count": 16,
   "id": "0e5d32e7",
   "metadata": {},
   "outputs": [
    {
     "data": {
      "text/html": [
       "<div>\n",
       "<style scoped>\n",
       "    .dataframe tbody tr th:only-of-type {\n",
       "        vertical-align: middle;\n",
       "    }\n",
       "\n",
       "    .dataframe tbody tr th {\n",
       "        vertical-align: top;\n",
       "    }\n",
       "\n",
       "    .dataframe thead th {\n",
       "        text-align: right;\n",
       "    }\n",
       "</style>\n",
       "<table border=\"1\" class=\"dataframe\">\n",
       "  <thead>\n",
       "    <tr style=\"text-align: right;\">\n",
       "      <th></th>\n",
       "      <th>name</th>\n",
       "      <th>ext</th>\n",
       "      <th>size</th>\n",
       "      <th>type</th>\n",
       "    </tr>\n",
       "    <tr>\n",
       "      <th>station_id</th>\n",
       "      <th></th>\n",
       "      <th></th>\n",
       "      <th></th>\n",
       "      <th></th>\n",
       "    </tr>\n",
       "  </thead>\n",
       "  <tbody>\n",
       "    <tr>\n",
       "      <th>1</th>\n",
       "      <td>jahreswerte_KL_00001_19310101_19860630_hist.zip</td>\n",
       "      <td>.zip</td>\n",
       "      <td>12989</td>\n",
       "      <td>-</td>\n",
       "    </tr>\n",
       "    <tr>\n",
       "      <th>3</th>\n",
       "      <td>jahreswerte_KL_00003_18510101_20110331_hist.zip</td>\n",
       "      <td>.zip</td>\n",
       "      <td>20125</td>\n",
       "      <td>-</td>\n",
       "    </tr>\n",
       "    <tr>\n",
       "      <th>44</th>\n",
       "      <td>jahreswerte_KL_00044_19710301_20211231_hist.zip</td>\n",
       "      <td>.zip</td>\n",
       "      <td>16176</td>\n",
       "      <td>-</td>\n",
       "    </tr>\n",
       "    <tr>\n",
       "      <th>52</th>\n",
       "      <td>jahreswerte_KL_00052_19730101_20011231_hist.zip</td>\n",
       "      <td>.zip</td>\n",
       "      <td>13759</td>\n",
       "      <td>-</td>\n",
       "    </tr>\n",
       "    <tr>\n",
       "      <th>61</th>\n",
       "      <td>jahreswerte_KL_00061_19750701_19780831_hist.zip</td>\n",
       "      <td>.zip</td>\n",
       "      <td>9130</td>\n",
       "      <td>-</td>\n",
       "    </tr>\n",
       "    <tr>\n",
       "      <th>70</th>\n",
       "      <td>jahreswerte_KL_00070_19730601_19860930_hist.zip</td>\n",
       "      <td>.zip</td>\n",
       "      <td>9680</td>\n",
       "      <td>-</td>\n",
       "    </tr>\n",
       "    <tr>\n",
       "      <th>71</th>\n",
       "      <td>jahreswerte_KL_00071_19861101_20191231_hist.zip</td>\n",
       "      <td>.zip</td>\n",
       "      <td>14916</td>\n",
       "      <td>-</td>\n",
       "    </tr>\n",
       "    <tr>\n",
       "      <th>72</th>\n",
       "      <td>jahreswerte_KL_00072_19781001_19950531_hist.zip</td>\n",
       "      <td>.zip</td>\n",
       "      <td>12892</td>\n",
       "      <td>-</td>\n",
       "    </tr>\n",
       "    <tr>\n",
       "      <th>73</th>\n",
       "      <td>jahreswerte_KL_00073_19530101_20211231_hist.zip</td>\n",
       "      <td>.zip</td>\n",
       "      <td>17379</td>\n",
       "      <td>-</td>\n",
       "    </tr>\n",
       "    <tr>\n",
       "      <th>78</th>\n",
       "      <td>jahreswerte_KL_00078_19610101_20211231_hist.zip</td>\n",
       "      <td>.zip</td>\n",
       "      <td>13962</td>\n",
       "      <td>-</td>\n",
       "    </tr>\n",
       "  </tbody>\n",
       "</table>\n",
       "</div>"
      ],
      "text/plain": [
       "                                                       name   ext   size type\n",
       "station_id                                                                   \n",
       "1           jahreswerte_KL_00001_19310101_19860630_hist.zip  .zip  12989    -\n",
       "3           jahreswerte_KL_00003_18510101_20110331_hist.zip  .zip  20125    -\n",
       "44          jahreswerte_KL_00044_19710301_20211231_hist.zip  .zip  16176    -\n",
       "52          jahreswerte_KL_00052_19730101_20011231_hist.zip  .zip  13759    -\n",
       "61          jahreswerte_KL_00061_19750701_19780831_hist.zip  .zip   9130    -\n",
       "70          jahreswerte_KL_00070_19730601_19860930_hist.zip  .zip   9680    -\n",
       "71          jahreswerte_KL_00071_19861101_20191231_hist.zip  .zip  14916    -\n",
       "72          jahreswerte_KL_00072_19781001_19950531_hist.zip  .zip  12892    -\n",
       "73          jahreswerte_KL_00073_19530101_20211231_hist.zip  .zip  17379    -\n",
       "78          jahreswerte_KL_00078_19610101_20211231_hist.zip  .zip  13962    -"
      ]
     },
     "execution_count": 16,
     "metadata": {},
     "output_type": "execute_result"
    }
   ],
   "source": [
    "#df_ftpdir[\"ext\"]==\".zip\"\n",
    "df_zips = df_ftpdir[df_ftpdir[\"ext\"]==\".zip\"]\n",
    "df_zips.set_index(\"station_id\", inplace = True)\n",
    "df_zips.head(10)"
   ]
  },
  {
   "cell_type": "markdown",
   "id": "8cfef329",
   "metadata": {},
   "source": [
    "Download the Station Description File"
   ]
  },
  {
   "cell_type": "code",
   "execution_count": 17,
   "id": "08e03381",
   "metadata": {},
   "outputs": [
    {
     "name": "stdout",
     "output_type": "stream",
     "text": [
      "KL_Jahreswerte_Beschreibung_Stationen.txt\n"
     ]
    }
   ],
   "source": [
    "station_fname = df_ftpdir[df_ftpdir['name'].str.contains(station_desc_pattern)][\"name\"].values[0]\n",
    "print(station_fname)\n",
    "\n",
    "# ALternative\n",
    "#station_fname2 = df_ftpdir[df_ftpdir[\"name\"].str.match(\"^.*Beschreibung_Stationen.*txt$\")][\"name\"].values[0]\n",
    "#print(station_fname2)"
   ]
  },
  {
   "cell_type": "code",
   "execution_count": 18,
   "id": "bec8ed5f",
   "metadata": {},
   "outputs": [
    {
     "name": "stdout",
     "output_type": "stream",
     "text": [
      "grabFile: \n",
      "From: /climate_environment/CDC/observations_germany/climate//annual/kl/historical/KL_Jahreswerte_Beschreibung_Stationen.txt\n",
      "To:   data/original/DWD//annual/kl/historical/KL_Jahreswerte_Beschreibung_Stationen.txt\n"
     ]
    }
   ],
   "source": [
    "print(\"grabFile: \")\n",
    "print(\"From: \" + ftp_dir + station_fname)\n",
    "print(\"To:   \" + local_ftp_station_dir + station_fname)\n",
    "grabFile(ftp_dir + station_fname, local_ftp_station_dir + station_fname)"
   ]
  },
  {
   "cell_type": "code",
   "execution_count": 19,
   "id": "f22465e1",
   "metadata": {},
   "outputs": [],
   "source": [
    "# extract column names. They are in German (de)\n",
    "# We have to use codecs because of difficulties with character encoding (German Umlaute)\n",
    "import codecs\n",
    "\n",
    "def station_desc_txt_to_csv(txtfile, csvfile):\n",
    "    file = codecs.open(txtfile, \"r\", encoding=\"latin1\")\n",
    "    r = file.readline()\n",
    "    file.close()\n",
    "    colnames_de = r.split()\n",
    "    colnames_de\n",
    "    \n",
    "    translate = \\\n",
    "    {'Stations_id':'station_id',\n",
    "     'von_datum':'date_from',\n",
    "     'bis_datum':'date_to',\n",
    "     'Stationshoehe':'altitude',\n",
    "     'geoBreite': 'latitude',\n",
    "     'geoLaenge': 'longitude',\n",
    "     'Stationsname':'name',\n",
    "     'Bundesland':'state'}\n",
    "    \n",
    "    colnames_en = [translate[h] for h in colnames_de]\n",
    "    \n",
    "    # Skip the first two rows and set the column names.\n",
    "    df = pd.read_fwf(\\\n",
    "        txtfile, skiprows=2, names=colnames_en, \\\n",
    "        parse_dates=[\"date_from\",\"date_to\"], index_col = 0, \\\n",
    "        encoding=\"latin1\")\n",
    "    \n",
    "    # write csv\n",
    "    df.to_csv(csvfile, sep = \";\")\n",
    "    return(df)"
   ]
  },
  {
   "cell_type": "code",
   "execution_count": 20,
   "id": "8325179c",
   "metadata": {},
   "outputs": [
    {
     "data": {
      "text/html": [
       "<div>\n",
       "<style scoped>\n",
       "    .dataframe tbody tr th:only-of-type {\n",
       "        vertical-align: middle;\n",
       "    }\n",
       "\n",
       "    .dataframe tbody tr th {\n",
       "        vertical-align: top;\n",
       "    }\n",
       "\n",
       "    .dataframe thead th {\n",
       "        text-align: right;\n",
       "    }\n",
       "</style>\n",
       "<table border=\"1\" class=\"dataframe\">\n",
       "  <thead>\n",
       "    <tr style=\"text-align: right;\">\n",
       "      <th></th>\n",
       "      <th>date_from</th>\n",
       "      <th>date_to</th>\n",
       "      <th>altitude</th>\n",
       "      <th>latitude</th>\n",
       "      <th>longitude</th>\n",
       "      <th>name</th>\n",
       "      <th>state</th>\n",
       "    </tr>\n",
       "    <tr>\n",
       "      <th>station_id</th>\n",
       "      <th></th>\n",
       "      <th></th>\n",
       "      <th></th>\n",
       "      <th></th>\n",
       "      <th></th>\n",
       "      <th></th>\n",
       "      <th></th>\n",
       "    </tr>\n",
       "  </thead>\n",
       "  <tbody>\n",
       "    <tr>\n",
       "      <th>1</th>\n",
       "      <td>1931-01-01</td>\n",
       "      <td>1986-06-30</td>\n",
       "      <td>478</td>\n",
       "      <td>47.8413</td>\n",
       "      <td>8.8493</td>\n",
       "      <td>Aach</td>\n",
       "      <td>Baden-Württemberg</td>\n",
       "    </tr>\n",
       "    <tr>\n",
       "      <th>3</th>\n",
       "      <td>1851-01-01</td>\n",
       "      <td>2011-03-31</td>\n",
       "      <td>202</td>\n",
       "      <td>50.7827</td>\n",
       "      <td>6.0941</td>\n",
       "      <td>Aachen</td>\n",
       "      <td>Nordrhein-Westfalen</td>\n",
       "    </tr>\n",
       "    <tr>\n",
       "      <th>44</th>\n",
       "      <td>1971-03-01</td>\n",
       "      <td>2022-12-31</td>\n",
       "      <td>44</td>\n",
       "      <td>52.9336</td>\n",
       "      <td>8.2370</td>\n",
       "      <td>Großenkneten</td>\n",
       "      <td>Niedersachsen</td>\n",
       "    </tr>\n",
       "    <tr>\n",
       "      <th>52</th>\n",
       "      <td>1973-01-01</td>\n",
       "      <td>2001-12-31</td>\n",
       "      <td>46</td>\n",
       "      <td>53.6623</td>\n",
       "      <td>10.1990</td>\n",
       "      <td>Ahrensburg-Wulfsdorf</td>\n",
       "      <td>Schleswig-Holstein</td>\n",
       "    </tr>\n",
       "    <tr>\n",
       "      <th>61</th>\n",
       "      <td>1975-07-01</td>\n",
       "      <td>1978-08-31</td>\n",
       "      <td>339</td>\n",
       "      <td>48.8443</td>\n",
       "      <td>12.6171</td>\n",
       "      <td>Aiterhofen</td>\n",
       "      <td>Bayern</td>\n",
       "    </tr>\n",
       "  </tbody>\n",
       "</table>\n",
       "</div>"
      ],
      "text/plain": [
       "            date_from    date_to  altitude  latitude  longitude  \\\n",
       "station_id                                                        \n",
       "1          1931-01-01 1986-06-30       478   47.8413     8.8493   \n",
       "3          1851-01-01 2011-03-31       202   50.7827     6.0941   \n",
       "44         1971-03-01 2022-12-31        44   52.9336     8.2370   \n",
       "52         1973-01-01 2001-12-31        46   53.6623    10.1990   \n",
       "61         1975-07-01 1978-08-31       339   48.8443    12.6171   \n",
       "\n",
       "                            name                state  \n",
       "station_id                                             \n",
       "1                           Aach    Baden-Württemberg  \n",
       "3                         Aachen  Nordrhein-Westfalen  \n",
       "44                  Großenkneten        Niedersachsen  \n",
       "52          Ahrensburg-Wulfsdorf   Schleswig-Holstein  \n",
       "61                    Aiterhofen               Bayern  "
      ]
     },
     "execution_count": 20,
     "metadata": {},
     "output_type": "execute_result"
    }
   ],
   "source": [
    "basename = os.path.splitext(station_fname)[0]\n",
    "df_stations = station_desc_txt_to_csv(local_ftp_station_dir + station_fname, local_station_dir + basename + \".csv\")\n",
    "df_stations.head()"
   ]
  },
  {
   "cell_type": "markdown",
   "id": "2e7c71ec",
   "metadata": {},
   "source": [
    "### Select Stations Located in NRW from Station Description Dataframe"
   ]
  },
  {
   "cell_type": "code",
   "execution_count": 32,
   "id": "4d042333",
   "metadata": {},
   "outputs": [
    {
     "name": "stdout",
     "output_type": "stream",
     "text": [
      "Stations located in NRW, still active in 2022, and started before 1950: \n",
      "[555, 1078, 1300, 1303, 1327, 1590, 2110, 2483, 2497, 2629, 2968, 4371, 5717]\n"
     ]
    }
   ],
   "source": [
    "# Create variable with TRUE if state is Nordrhein-Westfalen\n",
    "isNRW = (df_stations['state'] == \"Nordrhein-Westfalen\").values\n",
    "\n",
    "# Create variable with TRUE if date_to is latest date (indicates operation up to now)\n",
    "isActive2022 = (df_stations['date_to'] >= \"2022\").values \n",
    "\n",
    "# Create variable with TRUE if date_from is earlier than 1950\n",
    "isBefore1950 = (df_stations['date_from'] < \"1950\")\n",
    "\n",
    "# select on both conditions\n",
    "station_ids_selected = df_stations[isNRW & isActive2022 & isBefore1950].index\n",
    "\n",
    "print(f\"Stations located in NRW, still active in 2022, and started before 1950: \\n{list(station_ids_selected)}\")\n"
   ]
  },
  {
   "cell_type": "code",
   "execution_count": 33,
   "id": "6cf185f0",
   "metadata": {},
   "outputs": [
    {
     "data": {
      "text/plain": [
       "13"
      ]
     },
     "execution_count": 33,
     "metadata": {},
     "output_type": "execute_result"
    }
   ],
   "source": [
    "len(station_ids_selected)"
   ]
  },
  {
   "cell_type": "code",
   "execution_count": 24,
   "id": "5f0f8c10",
   "metadata": {},
   "outputs": [
    {
     "data": {
      "text/html": [
       "<div>\n",
       "<style scoped>\n",
       "    .dataframe tbody tr th:only-of-type {\n",
       "        vertical-align: middle;\n",
       "    }\n",
       "\n",
       "    .dataframe tbody tr th {\n",
       "        vertical-align: top;\n",
       "    }\n",
       "\n",
       "    .dataframe thead th {\n",
       "        text-align: right;\n",
       "    }\n",
       "</style>\n",
       "<table border=\"1\" class=\"dataframe\">\n",
       "  <thead>\n",
       "    <tr style=\"text-align: right;\">\n",
       "      <th></th>\n",
       "      <th>date_from</th>\n",
       "      <th>date_to</th>\n",
       "      <th>altitude</th>\n",
       "      <th>latitude</th>\n",
       "      <th>longitude</th>\n",
       "      <th>name</th>\n",
       "      <th>state</th>\n",
       "    </tr>\n",
       "    <tr>\n",
       "      <th>station_id</th>\n",
       "      <th></th>\n",
       "      <th></th>\n",
       "      <th></th>\n",
       "      <th></th>\n",
       "      <th></th>\n",
       "      <th></th>\n",
       "      <th></th>\n",
       "    </tr>\n",
       "  </thead>\n",
       "  <tbody>\n",
       "    <tr>\n",
       "      <th>555</th>\n",
       "      <td>1925-01-01</td>\n",
       "      <td>2023-01-31</td>\n",
       "      <td>110</td>\n",
       "      <td>51.5026</td>\n",
       "      <td>7.2289</td>\n",
       "      <td>Bochum</td>\n",
       "      <td>Nordrhein-Westfalen</td>\n",
       "    </tr>\n",
       "    <tr>\n",
       "      <th>1078</th>\n",
       "      <td>1940-01-01</td>\n",
       "      <td>2022-12-31</td>\n",
       "      <td>37</td>\n",
       "      <td>51.2960</td>\n",
       "      <td>6.7686</td>\n",
       "      <td>Düsseldorf</td>\n",
       "      <td>Nordrhein-Westfalen</td>\n",
       "    </tr>\n",
       "    <tr>\n",
       "      <th>1300</th>\n",
       "      <td>1931-01-01</td>\n",
       "      <td>2022-12-31</td>\n",
       "      <td>351</td>\n",
       "      <td>51.2540</td>\n",
       "      <td>8.1565</td>\n",
       "      <td>Eslohe</td>\n",
       "      <td>Nordrhein-Westfalen</td>\n",
       "    </tr>\n",
       "    <tr>\n",
       "      <th>1303</th>\n",
       "      <td>1888-01-01</td>\n",
       "      <td>2022-12-31</td>\n",
       "      <td>150</td>\n",
       "      <td>51.4041</td>\n",
       "      <td>6.9677</td>\n",
       "      <td>Essen-Bredeney</td>\n",
       "      <td>Nordrhein-Westfalen</td>\n",
       "    </tr>\n",
       "    <tr>\n",
       "      <th>1327</th>\n",
       "      <td>1937-01-01</td>\n",
       "      <td>2022-12-31</td>\n",
       "      <td>147</td>\n",
       "      <td>50.7119</td>\n",
       "      <td>6.7905</td>\n",
       "      <td>Weilerswist-Lommersum</td>\n",
       "      <td>Nordrhein-Westfalen</td>\n",
       "    </tr>\n",
       "    <tr>\n",
       "      <th>1590</th>\n",
       "      <td>1937-01-01</td>\n",
       "      <td>2022-12-31</td>\n",
       "      <td>37</td>\n",
       "      <td>51.4942</td>\n",
       "      <td>6.2463</td>\n",
       "      <td>Geldern-Walbeck</td>\n",
       "      <td>Nordrhein-Westfalen</td>\n",
       "    </tr>\n",
       "    <tr>\n",
       "      <th>2110</th>\n",
       "      <td>1938-01-01</td>\n",
       "      <td>2022-12-31</td>\n",
       "      <td>57</td>\n",
       "      <td>51.0411</td>\n",
       "      <td>6.1042</td>\n",
       "      <td>Heinsberg-Schleiden</td>\n",
       "      <td>Nordrhein-Westfalen</td>\n",
       "    </tr>\n",
       "    <tr>\n",
       "      <th>2483</th>\n",
       "      <td>1926-11-01</td>\n",
       "      <td>2022-12-31</td>\n",
       "      <td>839</td>\n",
       "      <td>51.1803</td>\n",
       "      <td>8.4891</td>\n",
       "      <td>Kahler Asten</td>\n",
       "      <td>Nordrhein-Westfalen</td>\n",
       "    </tr>\n",
       "    <tr>\n",
       "      <th>2497</th>\n",
       "      <td>1937-01-01</td>\n",
       "      <td>2022-12-31</td>\n",
       "      <td>505</td>\n",
       "      <td>50.5014</td>\n",
       "      <td>6.5264</td>\n",
       "      <td>Kall-Sistig</td>\n",
       "      <td>Nordrhein-Westfalen</td>\n",
       "    </tr>\n",
       "    <tr>\n",
       "      <th>2629</th>\n",
       "      <td>1851-01-01</td>\n",
       "      <td>2022-12-31</td>\n",
       "      <td>46</td>\n",
       "      <td>51.7612</td>\n",
       "      <td>6.0954</td>\n",
       "      <td>Kleve</td>\n",
       "      <td>Nordrhein-Westfalen</td>\n",
       "    </tr>\n",
       "    <tr>\n",
       "      <th>2968</th>\n",
       "      <td>1903-01-01</td>\n",
       "      <td>2022-12-31</td>\n",
       "      <td>43</td>\n",
       "      <td>50.9894</td>\n",
       "      <td>6.9777</td>\n",
       "      <td>Köln-Stammheim</td>\n",
       "      <td>Nordrhein-Westfalen</td>\n",
       "    </tr>\n",
       "    <tr>\n",
       "      <th>4371</th>\n",
       "      <td>1931-01-01</td>\n",
       "      <td>2022-12-31</td>\n",
       "      <td>135</td>\n",
       "      <td>52.1042</td>\n",
       "      <td>8.7521</td>\n",
       "      <td>Salzuflen, Bad</td>\n",
       "      <td>Nordrhein-Westfalen</td>\n",
       "    </tr>\n",
       "    <tr>\n",
       "      <th>5717</th>\n",
       "      <td>1907-01-01</td>\n",
       "      <td>2022-12-31</td>\n",
       "      <td>134</td>\n",
       "      <td>51.2256</td>\n",
       "      <td>7.1052</td>\n",
       "      <td>Wuppertal-Buchenhofen</td>\n",
       "      <td>Nordrhein-Westfalen</td>\n",
       "    </tr>\n",
       "  </tbody>\n",
       "</table>\n",
       "</div>"
      ],
      "text/plain": [
       "            date_from    date_to  altitude  latitude  longitude  \\\n",
       "station_id                                                        \n",
       "555        1925-01-01 2023-01-31       110   51.5026     7.2289   \n",
       "1078       1940-01-01 2022-12-31        37   51.2960     6.7686   \n",
       "1300       1931-01-01 2022-12-31       351   51.2540     8.1565   \n",
       "1303       1888-01-01 2022-12-31       150   51.4041     6.9677   \n",
       "1327       1937-01-01 2022-12-31       147   50.7119     6.7905   \n",
       "1590       1937-01-01 2022-12-31        37   51.4942     6.2463   \n",
       "2110       1938-01-01 2022-12-31        57   51.0411     6.1042   \n",
       "2483       1926-11-01 2022-12-31       839   51.1803     8.4891   \n",
       "2497       1937-01-01 2022-12-31       505   50.5014     6.5264   \n",
       "2629       1851-01-01 2022-12-31        46   51.7612     6.0954   \n",
       "2968       1903-01-01 2022-12-31        43   50.9894     6.9777   \n",
       "4371       1931-01-01 2022-12-31       135   52.1042     8.7521   \n",
       "5717       1907-01-01 2022-12-31       134   51.2256     7.1052   \n",
       "\n",
       "                             name                state  \n",
       "station_id                                              \n",
       "555                        Bochum  Nordrhein-Westfalen  \n",
       "1078                   Düsseldorf  Nordrhein-Westfalen  \n",
       "1300                       Eslohe  Nordrhein-Westfalen  \n",
       "1303               Essen-Bredeney  Nordrhein-Westfalen  \n",
       "1327        Weilerswist-Lommersum  Nordrhein-Westfalen  \n",
       "1590              Geldern-Walbeck  Nordrhein-Westfalen  \n",
       "2110          Heinsberg-Schleiden  Nordrhein-Westfalen  \n",
       "2483                 Kahler Asten  Nordrhein-Westfalen  \n",
       "2497                  Kall-Sistig  Nordrhein-Westfalen  \n",
       "2629                        Kleve  Nordrhein-Westfalen  \n",
       "2968               Köln-Stammheim  Nordrhein-Westfalen  \n",
       "4371               Salzuflen, Bad  Nordrhein-Westfalen  \n",
       "5717        Wuppertal-Buchenhofen  Nordrhein-Westfalen  "
      ]
     },
     "execution_count": 24,
     "metadata": {},
     "output_type": "execute_result"
    }
   ],
   "source": [
    "df_stations.loc[station_ids_selected].head(13)"
   ]
  },
  {
   "cell_type": "markdown",
   "id": "ed147d1f",
   "metadata": {},
   "source": [
    "### Download TS Data from FTP Server"
   ]
  },
  {
   "cell_type": "code",
   "execution_count": 23,
   "id": "802c20bf",
   "metadata": {},
   "outputs": [
    {
     "name": "stdout",
     "output_type": "stream",
     "text": [
      "jahreswerte_KL_00555_19250101_20181031_hist.zip\n",
      "jahreswerte_KL_01078_19400101_20211231_hist.zip\n",
      "jahreswerte_KL_01300_19310101_20211231_hist.zip\n",
      "jahreswerte_KL_01303_18880101_20211231_hist.zip\n",
      "jahreswerte_KL_01327_19370101_20211231_hist.zip\n",
      "jahreswerte_KL_01590_19370101_20211231_hist.zip\n",
      "jahreswerte_KL_02110_19380101_20211231_hist.zip\n",
      "jahreswerte_KL_02483_19261101_20211231_hist.zip\n",
      "jahreswerte_KL_02497_19370101_20211231_hist.zip\n",
      "jahreswerte_KL_02629_18510101_20211231_hist.zip\n",
      "jahreswerte_KL_02968_19030101_20211231_hist.zip\n",
      "jahreswerte_KL_04371_19310101_20211231_hist.zip\n",
      "jahreswerte_KL_05717_19070101_20211231_hist.zip\n"
     ]
    }
   ],
   "source": [
    "# Add the names of the zip files only to a list. \n",
    "local_zip_list = []\n",
    "\n",
    "for station_id in station_ids_selected:\n",
    "    try:\n",
    "        fname = df_zips[\"name\"][station_id]\n",
    "        print(fname)\n",
    "        grabFile(ftp_dir + fname, local_ftp_ts_dir + fname)\n",
    "        local_zip_list.append(fname)\n",
    "    except:\n",
    "        print(\"WARNING: TS file for key %d not found in FTP directory.\" % station_id)"
   ]
  },
  {
   "cell_type": "code",
   "execution_count": null,
   "id": "0ea976dd",
   "metadata": {},
   "outputs": [],
   "source": []
  }
 ],
 "metadata": {
  "kernelspec": {
   "display_name": "Python 3 (ipykernel)",
   "language": "python",
   "name": "python3"
  },
  "language_info": {
   "codemirror_mode": {
    "name": "ipython",
    "version": 3
   },
   "file_extension": ".py",
   "mimetype": "text/x-python",
   "name": "python",
   "nbconvert_exporter": "python",
   "pygments_lexer": "ipython3",
   "version": "3.10.6"
  }
 },
 "nbformat": 4,
 "nbformat_minor": 5
}
